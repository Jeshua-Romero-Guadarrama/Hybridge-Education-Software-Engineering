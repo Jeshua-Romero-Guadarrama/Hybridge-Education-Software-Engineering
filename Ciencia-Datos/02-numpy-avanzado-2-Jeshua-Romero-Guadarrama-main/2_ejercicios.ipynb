{
 "cells": [
  {
   "cell_type": "markdown",
   "metadata": {},
   "source": [
    "# Numpy\n",
    "## Ejercicios prácticos\n",
    "\n",
    "---\n",
    "### Utiliza Python y Numpy para realizar las siguientes operaciones:\n",
    "1. Dado el arreglo `a = np.array([1, 2, 3, 4])`, determina si ninguno de los elementos es cero.\n",
    "2. Dado el arreglo `a = np.array([0, 0, 2, 0])`, determina si contiene algún elemento que no sea cero.\n",
    "3. Analiza el arreglo `a = np.array([1, 2, np.nan, np.inf])` y determina si contiene valores que sean infinitos o valores no numéricos (NaN).\n",
    "4. Dado el arreglo `a = np.array([1, 2, np.inf])`, determina si contiene valores infinitos.\n",
    "5. Dado el arreglo `a = np.array([1, np.nan, 3])`, determina si contiene valores NaN.\n",
    "6. Dados los arreglos `a = np.array([1, 3, 5])` y `b = np.array([2, 3, 4])`, realiza una comparación elemento a elemento contemplando mayor, mayor o igual, menor y menor o igual.\n",
    "7. Crea un arreglo que contenga los valores 1, 7, 13 y 105, y determina la cantidad de memoria que ocupa el arreglo.\n",
    "8. Crea un arreglo de 10 ceros; uno de 10 unos; y uno de 10 cincos.\n",
    "9. Crea un arreglo que contenga todos los números enteros entre 30 y 70.\n",
    "10. Crea un arreglo que contenga los números pares entre 30 y 70.\n",
    "11. Crea una matriz identidad de 3x3.\n",
    "12. Genera un número aleatorio entre 0 y 1.\n",
    "13. Crea un arreglo de 15 números aleatorios tomados de una distribución normal estándar.\n",
    "14. Crea un arreglo con valores entre 15 y 55, e imprime todos los valores excepto el primero y el último.\n",
    "15. Crea un vector (arreglo) de longitud 10 con valores equitativamente distribuidos entre 5 y 50.\n",
    "16. Crea un vector con valores de 0 a 20, y cambia el signo de los números de 9 a 15.\n",
    "17. Convierte el arreglo `a = np.array([1, 2, 3])` a una lista de Python.\n",
    "18. Convierte la lista `l = [1, 2, 3]` a un arreglo de Numpy.\n",
    "19. Dada la matriz `m = np.array([[1, 2], [3, 4]])`, verifica qué números son pares y almacena los resultados en otra matriz.\n",
    "20. Dado el arreglo `m = np.array([[1, 2, 3], [4, 5, 6]])`, encuentra el número de filas y columnas de la matriz."
   ]
  },
  {
   "cell_type": "code",
   "execution_count": 1,
   "metadata": {},
   "outputs": [],
   "source": [
    "import numpy as np"
   ]
  },
  {
   "cell_type": "code",
   "execution_count": 2,
   "metadata": {
    "tags": []
   },
   "outputs": [
    {
     "name": "stdout",
     "output_type": "stream",
     "text": [
      "Ningún elemento es cero: True\n"
     ]
    }
   ],
   "source": [
    "# 1. Determinar si ninguno de los elementos es cero\n",
    "a = np.array([1, 2, 3, 4])\n",
    "no_ceros = np.all(a != 0)\n",
    "print(\"Ningún elemento es cero:\", no_ceros)"
   ]
  },
  {
   "cell_type": "code",
   "execution_count": 3,
   "metadata": {
    "tags": []
   },
   "outputs": [
    {
     "name": "stdout",
     "output_type": "stream",
     "text": [
      "Contiene al menos un elemento que no es cero: True\n"
     ]
    }
   ],
   "source": [
    "# 2. Determinar si contiene algún elemento que no sea cero\n",
    "a = np.array([0, 0, 2, 0])\n",
    "alguno_no_cero = np.any(a != 0)\n",
    "print(\"Contiene al menos un elemento que no es cero:\", alguno_no_cero)"
   ]
  },
  {
   "cell_type": "code",
   "execution_count": 4,
   "metadata": {
    "tags": []
   },
   "outputs": [
    {
     "name": "stdout",
     "output_type": "stream",
     "text": [
      "Contiene NaN: True\n",
      "Contiene infinitos: True\n"
     ]
    }
   ],
   "source": [
    "# 3. Verificar si contiene valores infinitos o NaN\n",
    "a = np.array([1, 2, np.nan, np.inf])\n",
    "tiene_nan = np.isnan(a).any()\n",
    "tiene_inf = np.isinf(a).any()\n",
    "print(\"Contiene NaN:\", tiene_nan)\n",
    "print(\"Contiene infinitos:\", tiene_inf)"
   ]
  },
  {
   "cell_type": "code",
   "execution_count": 5,
   "metadata": {
    "tags": []
   },
   "outputs": [
    {
     "name": "stdout",
     "output_type": "stream",
     "text": [
      "Contiene valores infinitos: True\n"
     ]
    }
   ],
   "source": [
    "# 4. Determinar si contiene valores infinitos\n",
    "a = np.array([1, 2, np.inf])\n",
    "tiene_inf = np.isinf(a).any()\n",
    "print(\"Contiene valores infinitos:\", tiene_inf)"
   ]
  },
  {
   "cell_type": "code",
   "execution_count": 6,
   "metadata": {
    "tags": []
   },
   "outputs": [
    {
     "name": "stdout",
     "output_type": "stream",
     "text": [
      "Contiene valores NaN: True\n"
     ]
    }
   ],
   "source": [
    "# 5. Determinar si contiene valores NaN\n",
    "a = np.array([1, np.nan, 3])\n",
    "tiene_nan = np.isnan(a).any()\n",
    "print(\"Contiene valores NaN:\", tiene_nan)"
   ]
  },
  {
   "cell_type": "code",
   "execution_count": 7,
   "metadata": {
    "tags": []
   },
   "outputs": [
    {
     "name": "stdout",
     "output_type": "stream",
     "text": [
      "a > b: [False False  True]\n",
      "a >= b: [False  True  True]\n",
      "a < b: [ True False False]\n",
      "a <= b: [ True  True False]\n"
     ]
    }
   ],
   "source": [
    "# 6. Comparación elemento a elemento entre dos arreglos\n",
    "a = np.array([1, 3, 5])\n",
    "b = np.array([2, 3, 4])\n",
    "mayor = a > b\n",
    "mayor_o_igual = a >= b\n",
    "menor = a < b\n",
    "menor_o_igual = a <= b\n",
    "print(\"a > b:\", mayor)\n",
    "print(\"a >= b:\", mayor_o_igual)\n",
    "print(\"a < b:\", menor)\n",
    "print(\"a <= b:\", menor_o_igual)"
   ]
  },
  {
   "cell_type": "code",
   "execution_count": 8,
   "metadata": {
    "tags": []
   },
   "outputs": [
    {
     "name": "stdout",
     "output_type": "stream",
     "text": [
      "Arreglo: [  1   7  13 105]\n",
      "Cantidad de memoria ocupada (bytes): 16\n"
     ]
    }
   ],
   "source": [
    "# 7. Crear un arreglo y determinar la cantidad de memoria que ocupa\n",
    "a = np.array([1, 7, 13, 105])\n",
    "memoria = a.nbytes\n",
    "print(\"Arreglo:\", a)\n",
    "print(\"Cantidad de memoria ocupada (bytes):\", memoria)"
   ]
  },
  {
   "cell_type": "code",
   "execution_count": 9,
   "metadata": {
    "tags": []
   },
   "outputs": [
    {
     "name": "stdout",
     "output_type": "stream",
     "text": [
      "Arreglo de ceros: [0. 0. 0. 0. 0. 0. 0. 0. 0. 0.]\n",
      "Arreglo de unos: [1. 1. 1. 1. 1. 1. 1. 1. 1. 1.]\n",
      "Arreglo de cincos: [5 5 5 5 5 5 5 5 5 5]\n"
     ]
    }
   ],
   "source": [
    "# 8. Crear arreglos de ceros, unos y cincos\n",
    "ceros = np.zeros(10)\n",
    "unos = np.ones(10)\n",
    "cincos = np.full(10, 5)\n",
    "print(\"Arreglo de ceros:\", ceros)\n",
    "print(\"Arreglo de unos:\", unos)\n",
    "print(\"Arreglo de cincos:\", cincos)"
   ]
  },
  {
   "cell_type": "code",
   "execution_count": 10,
   "metadata": {
    "tags": []
   },
   "outputs": [
    {
     "name": "stdout",
     "output_type": "stream",
     "text": [
      "Números enteros entre 30 y 70: [30 31 32 33 34 35 36 37 38 39 40 41 42 43 44 45 46 47 48 49 50 51 52 53\n",
      " 54 55 56 57 58 59 60 61 62 63 64 65 66 67 68 69 70]\n"
     ]
    }
   ],
   "source": [
    "# 9. Crear un arreglo con todos los números enteros entre 30 y 70\n",
    "a = np.arange(30, 71)  # 71 para incluir el 70\n",
    "print(\"Números enteros entre 30 y 70:\", a)"
   ]
  },
  {
   "cell_type": "code",
   "execution_count": 11,
   "metadata": {
    "tags": []
   },
   "outputs": [
    {
     "name": "stdout",
     "output_type": "stream",
     "text": [
      "Números pares entre 30 y 70: [30 32 34 36 38 40 42 44 46 48 50 52 54 56 58 60 62 64 66 68 70]\n"
     ]
    }
   ],
   "source": [
    "# 10. Crear un arreglo con los números pares entre 30 y 70\n",
    "a = np.arange(30, 71, 2)\n",
    "print(\"Números pares entre 30 y 70:\", a)"
   ]
  },
  {
   "cell_type": "code",
   "execution_count": 12,
   "metadata": {
    "tags": []
   },
   "outputs": [
    {
     "name": "stdout",
     "output_type": "stream",
     "text": [
      "Matriz identidad 3x3:\n",
      " [[1. 0. 0.]\n",
      " [0. 1. 0.]\n",
      " [0. 0. 1.]]\n"
     ]
    }
   ],
   "source": [
    "# 11. Crear una matriz identidad de 3x3\n",
    "identidad = np.eye(3)\n",
    "print(\"Matriz identidad 3x3:\\n\", identidad)"
   ]
  },
  {
   "cell_type": "code",
   "execution_count": 13,
   "metadata": {
    "tags": []
   },
   "outputs": [
    {
     "name": "stdout",
     "output_type": "stream",
     "text": [
      "Número aleatorio entre 0 y 1: 0.6995321062133251\n"
     ]
    }
   ],
   "source": [
    "# 12. Generar un número aleatorio entre 0 y 1\n",
    "numero_aleatorio = np.random.rand()\n",
    "print(\"Número aleatorio entre 0 y 1:\", numero_aleatorio)"
   ]
  },
  {
   "cell_type": "code",
   "execution_count": 14,
   "metadata": {
    "tags": []
   },
   "outputs": [
    {
     "name": "stdout",
     "output_type": "stream",
     "text": [
      "Arreglo de 15 números aleatorios (distribución normal estándar):\n",
      " [-1.65378537 -0.49873751  0.31254907 -0.62379042 -0.00489998 -0.65722708\n",
      " -1.79805908  0.1559437  -0.23754197 -0.78257091 -0.67409069  0.79913032\n",
      "  1.36086976  0.79650925 -0.60393247]\n"
     ]
    }
   ],
   "source": [
    "# 13. Crear un arreglo de 15 números aleatorios de una distribución normal estándar\n",
    "arreglo_normal = np.random.randn(15)\n",
    "print(\"Arreglo de 15 números aleatorios (distribución normal estándar):\\n\", arreglo_normal)"
   ]
  },
  {
   "cell_type": "code",
   "execution_count": 15,
   "metadata": {
    "tags": []
   },
   "outputs": [
    {
     "name": "stdout",
     "output_type": "stream",
     "text": [
      "Arreglo completo: [15 16 17 18 19 20 21 22 23 24 25 26 27 28 29 30 31 32 33 34 35 36 37 38\n",
      " 39 40 41 42 43 44 45 46 47 48 49 50 51 52 53 54 55]\n",
      "Sin el primero y el último: [16 17 18 19 20 21 22 23 24 25 26 27 28 29 30 31 32 33 34 35 36 37 38 39\n",
      " 40 41 42 43 44 45 46 47 48 49 50 51 52 53 54]\n"
     ]
    }
   ],
   "source": [
    "# 14. Crear un arreglo con valores entre 15 y 55, e imprimir todos excepto el primero y el último\n",
    "a = np.arange(15, 56)  # 56 para incluir el 55\n",
    "print(\"Arreglo completo:\", a)\n",
    "print(\"Sin el primero y el último:\", a[1:-1])"
   ]
  },
  {
   "cell_type": "code",
   "execution_count": 16,
   "metadata": {
    "tags": []
   },
   "outputs": [
    {
     "name": "stdout",
     "output_type": "stream",
     "text": [
      "Vector equitativamente distribuido entre 5 y 50: [ 5. 10. 15. 20. 25. 30. 35. 40. 45. 50.]\n"
     ]
    }
   ],
   "source": [
    "# 15. Crear un vector de longitud 10 con valores equitativamente distribuidos entre 5 y 50\n",
    "vector = np.linspace(5, 50, 10)\n",
    "print(\"Vector equitativamente distribuido entre 5 y 50:\", vector)"
   ]
  },
  {
   "cell_type": "code",
   "execution_count": 17,
   "metadata": {
    "tags": []
   },
   "outputs": [
    {
     "name": "stdout",
     "output_type": "stream",
     "text": [
      "Vector original: [ 0  1  2  3  4  5  6  7  8  9 10 11 12 13 14 15 16 17 18 19 20]\n",
      "Vector modificado: [  0   1   2   3   4   5   6   7   8  -9 -10 -11 -12 -13 -14 -15  16  17\n",
      "  18  19  20]\n"
     ]
    }
   ],
   "source": [
    "# 16. Crear un vector con valores de 0 a 20 y cambiar el signo de los números de 9 a 15\n",
    "vector = np.arange(0, 21)\n",
    "print(\"Vector original:\", vector)\n",
    "vector[9:16] = -vector[9:16]\n",
    "print(\"Vector modificado:\", vector)"
   ]
  },
  {
   "cell_type": "code",
   "execution_count": 18,
   "metadata": {
    "tags": []
   },
   "outputs": [
    {
     "name": "stdout",
     "output_type": "stream",
     "text": [
      "Lista de Python: [1, 2, 3]\n"
     ]
    }
   ],
   "source": [
    "# 17. Convertir un arreglo a una lista de Python\n",
    "a = np.array([1, 2, 3])\n",
    "lista = a.tolist()\n",
    "print(\"Lista de Python:\", lista)"
   ]
  },
  {
   "cell_type": "code",
   "execution_count": 19,
   "metadata": {
    "tags": []
   },
   "outputs": [
    {
     "name": "stdout",
     "output_type": "stream",
     "text": [
      "Arreglo de Numpy: [1 2 3]\n"
     ]
    }
   ],
   "source": [
    "# 18. Convertir una lista de Python a un arreglo de Numpy\n",
    "l = [1, 2, 3]\n",
    "a = np.array(l)\n",
    "print(\"Arreglo de Numpy:\", a)"
   ]
  },
  {
   "cell_type": "code",
   "execution_count": 20,
   "metadata": {
    "tags": []
   },
   "outputs": [
    {
     "name": "stdout",
     "output_type": "stream",
     "text": [
      "Matriz original:\n",
      " [[1 2]\n",
      " [3 4]]\n",
      "Matriz de pares (True si es par, False si es impar):\n",
      " [[False  True]\n",
      " [False  True]]\n"
     ]
    }
   ],
   "source": [
    "# 19. Verificar qué números son pares en una matriz y almacenar los resultados en otra matriz\n",
    "m = np.array([[1, 2], [3, 4]])\n",
    "pares = (m % 2 == 0)\n",
    "print(\"Matriz original:\\n\", m)\n",
    "print(\"Matriz de pares (True si es par, False si es impar):\\n\", pares)"
   ]
  },
  {
   "cell_type": "code",
   "execution_count": 21,
   "metadata": {
    "tags": []
   },
   "outputs": [
    {
     "name": "stdout",
     "output_type": "stream",
     "text": [
      "Número de filas: 2\n",
      "Número de columnas: 3\n"
     ]
    }
   ],
   "source": [
    "# 20. Encontrar el número de filas y columnas de una matriz\n",
    "m = np.array([[1, 2, 3], [4, 5, 6]])\n",
    "filas, columnas = m.shape\n",
    "print(\"Número de filas:\", filas)\n",
    "print(\"Número de columnas:\", columnas)"
   ]
  }
 ],
 "metadata": {
  "kernelspec": {
   "display_name": "Python 3 (ipykernel)",
   "language": "python",
   "name": "python3"
  },
  "language_info": {
   "codemirror_mode": {
    "name": "ipython",
    "version": 3
   },
   "file_extension": ".py",
   "mimetype": "text/x-python",
   "name": "python",
   "nbconvert_exporter": "python",
   "pygments_lexer": "ipython3",
   "version": "3.11.5"
  }
 },
 "nbformat": 4,
 "nbformat_minor": 4
}
